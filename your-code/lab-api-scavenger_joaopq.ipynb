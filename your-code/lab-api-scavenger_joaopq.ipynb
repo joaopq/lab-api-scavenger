{
 "cells": [
  {
   "cell_type": "markdown",
   "metadata": {},
   "source": [
    "# Challenge 1 - Fork Languages"
   ]
  },
  {
   "cell_type": "markdown",
   "metadata": {},
   "source": [
    "You will find out how many programming languages are used among all the forks created from the main lab repo of your bootcamp. Assuming the main lab repo is ironhack-datalabs/bcn-feb-2019, you will:\n",
    "\n",
    "Obtain the full list of forks created from the main lab repo via Github API.\n",
    "\n",
    "Loop the JSON response to find out the language attribute of each fork. Use an array to store the language attributes of each fork.\n",
    "\n",
    "Hint: Each language should appear only once in your array.\n",
    "Print the language array. It should be something like:\n",
    "\n",
    "[\"Python\", \"Jupyter Notebook\", \"HTML\"]\n",
    "\n",
    "Again, the documentation of Github API is here."
   ]
  },
  {
   "cell_type": "code",
   "execution_count": 1,
   "metadata": {},
   "outputs": [],
   "source": [
    "import requests\n",
    "import pandas as pd\n",
    "import json\n",
    "\n",
    "from getpass import getpass"
   ]
  },
  {
   "cell_type": "code",
   "execution_count": 2,
   "metadata": {},
   "outputs": [],
   "source": [
    "from requests.auth import HTTPBasicAuth"
   ]
  },
  {
   "cell_type": "code",
   "execution_count": 3,
   "metadata": {},
   "outputs": [],
   "source": [
    "key=\"899ed8f49b54a9160b44fbff45744a0c4e70a3d8\"\n",
    "\n",
    "url=\"https://api.github.com/repos/ironhack-datalabs/bcn-feb-2019/forks\"\n",
    "\n",
    "response = requests.get(url)\n",
    "response.json()\n",
    "\n",
    "inputs = {\n",
    "    'apikey':key\n",
    "    }"
   ]
  },
  {
   "cell_type": "code",
   "execution_count": 4,
   "metadata": {},
   "outputs": [
    {
     "data": {
      "text/plain": [
       "<Response [200]>"
      ]
     },
     "execution_count": 4,
     "metadata": {},
     "output_type": "execute_result"
    }
   ],
   "source": [
    "requests.get(url)"
   ]
  },
  {
   "cell_type": "code",
   "execution_count": 5,
   "metadata": {},
   "outputs": [
    {
     "data": {
      "text/plain": [
       "[{'id': 278336683,\n",
       "  'node_id': 'MDEwOlJlcG9zaXRvcnkyNzgzMzY2ODM=',\n",
       "  'name': 'bcn-feb-2019',\n",
       "  'full_name': 'franbaldi/bcn-feb-2019',\n",
       "  'private': False,\n",
       "  'owner': {'login': 'franbaldi',\n",
       "   'id': 25199469,\n",
       "   'node_id': 'MDQ6VXNlcjI1MTk5NDY5',\n",
       "   'avatar_url': 'https://avatars0.githubusercontent.com/u/25199469?v=4',\n",
       "   'gravatar_id': '',\n",
       "   'url': 'https://api.github.com/users/franbaldi',\n",
       "   'html_url': 'https://github.com/franbaldi',\n",
       "   'followers_url': 'https://api.github.com/users/franbaldi/followers',\n",
       "   'following_url': 'https://api.github.com/users/franbaldi/following{/other_user}',\n",
       "   'gists_url': 'https://api.github.com/users/franbaldi/gists{/gist_id}',\n",
       "   'starred_url': 'https://api.github.com/users/franbaldi/starred{/owner}{/repo}',\n",
       "   'subscriptions_url': 'https://api.github.com/users/franbaldi/subscriptions',\n",
       "   'organizations_url': 'https://api.github.com/users/franbaldi/orgs',\n",
       "   'repos_url': 'https://api.github.com/users/franbaldi/repos',\n",
       "   'events_url': 'https://api.github.com/users/franbaldi/events{/privacy}',\n",
       "   'received_events_url': 'https://api.github.com/users/franbaldi/received_events',\n",
       "   'type': 'User',\n",
       "   'site_admin': False},\n",
       "  'html_url': 'https://github.com/franbaldi/bcn-feb-2019',\n",
       "  'description': None,\n",
       "  'fork': True,\n",
       "  'url': 'https://api.github.com/repos/franbaldi/bcn-feb-2019',\n",
       "  'forks_url': 'https://api.github.com/repos/franbaldi/bcn-feb-2019/forks',\n",
       "  'keys_url': 'https://api.github.com/repos/franbaldi/bcn-feb-2019/keys{/key_id}',\n",
       "  'collaborators_url': 'https://api.github.com/repos/franbaldi/bcn-feb-2019/collaborators{/collaborator}',\n",
       "  'teams_url': 'https://api.github.com/repos/franbaldi/bcn-feb-2019/teams',\n",
       "  'hooks_url': 'https://api.github.com/repos/franbaldi/bcn-feb-2019/hooks',\n",
       "  'issue_events_url': 'https://api.github.com/repos/franbaldi/bcn-feb-2019/issues/events{/number}',\n",
       "  'events_url': 'https://api.github.com/repos/franbaldi/bcn-feb-2019/events',\n",
       "  'assignees_url': 'https://api.github.com/repos/franbaldi/bcn-feb-2019/assignees{/user}',\n",
       "  'branches_url': 'https://api.github.com/repos/franbaldi/bcn-feb-2019/branches{/branch}',\n",
       "  'tags_url': 'https://api.github.com/repos/franbaldi/bcn-feb-2019/tags',\n",
       "  'blobs_url': 'https://api.github.com/repos/franbaldi/bcn-feb-2019/git/blobs{/sha}',\n",
       "  'git_tags_url': 'https://api.github.com/repos/franbaldi/bcn-feb-2019/git/tags{/sha}',\n",
       "  'git_refs_url': 'https://api.github.com/repos/franbaldi/bcn-feb-2019/git/refs{/sha}',\n",
       "  'trees_url': 'https://api.github.com/repos/franbaldi/bcn-feb-2019/git/trees{/sha}',\n",
       "  'statuses_url': 'https://api.github.com/repos/franbaldi/bcn-feb-2019/statuses/{sha}',\n",
       "  'languages_url': 'https://api.github.com/repos/franbaldi/bcn-feb-2019/languages',\n",
       "  'stargazers_url': 'https://api.github.com/repos/franbaldi/bcn-feb-2019/stargazers',\n",
       "  'contributors_url': 'https://api.github.com/repos/franbaldi/bcn-feb-2019/contributors',\n",
       "  'subscribers_url': 'https://api.github.com/repos/franbaldi/bcn-feb-2019/subscribers',\n",
       "  'subscription_url': 'https://api.github.com/repos/franbaldi/bcn-feb-2019/subscription',\n",
       "  'commits_url': 'https://api.github.com/repos/franbaldi/bcn-feb-2019/commits{/sha}',\n",
       "  'git_commits_url': 'https://api.github.com/repos/franbaldi/bcn-feb-2019/git/commits{/sha}',\n",
       "  'comments_url': 'https://api.github.com/repos/franbaldi/bcn-feb-2019/comments{/number}',\n",
       "  'issue_comment_url': 'https://api.github.com/repos/franbaldi/bcn-feb-2019/issues/comments{/number}',\n",
       "  'contents_url': 'https://api.github.com/repos/franbaldi/bcn-feb-2019/contents/{+path}',\n",
       "  'compare_url': 'https://api.github.com/repos/franbaldi/bcn-feb-2019/compare/{base}...{head}',\n",
       "  'merges_url': 'https://api.github.com/repos/franbaldi/bcn-feb-2019/merges',\n",
       "  'archive_url': 'https://api.github.com/repos/franbaldi/bcn-feb-2019/{archive_format}{/ref}',\n",
       "  'downloads_url': 'https://api.github.com/repos/franbaldi/bcn-feb-2019/downloads',\n",
       "  'issues_url': 'https://api.github.com/repos/franbaldi/bcn-feb-2019/issues{/number}',\n",
       "  'pulls_url': 'https://api.github.com/repos/franbaldi/bcn-feb-2019/pulls{/number}',\n",
       "  'milestones_url': 'https://api.github.com/repos/franbaldi/bcn-feb-2019/milestones{/number}',\n",
       "  'notifications_url': 'https://api.github.com/repos/franbaldi/bcn-feb-2019/notifications{?since,all,participating}',\n",
       "  'labels_url': 'https://api.github.com/repos/franbaldi/bcn-feb-2019/labels{/name}',\n",
       "  'releases_url': 'https://api.github.com/repos/franbaldi/bcn-feb-2019/releases{/id}',\n",
       "  'deployments_url': 'https://api.github.com/repos/franbaldi/bcn-feb-2019/deployments',\n",
       "  'created_at': '2020-07-09T10:41:19Z',\n",
       "  'updated_at': '2020-07-09T10:41:20Z',\n",
       "  'pushed_at': '2019-02-18T22:33:04Z',\n",
       "  'git_url': 'git://github.com/franbaldi/bcn-feb-2019.git',\n",
       "  'ssh_url': 'git@github.com:franbaldi/bcn-feb-2019.git',\n",
       "  'clone_url': 'https://github.com/franbaldi/bcn-feb-2019.git',\n",
       "  'svn_url': 'https://github.com/franbaldi/bcn-feb-2019',\n",
       "  'homepage': None,\n",
       "  'size': 163749,\n",
       "  'stargazers_count': 0,\n",
       "  'watchers_count': 0,\n",
       "  'language': None,\n",
       "  'has_issues': False,\n",
       "  'has_projects': True,\n",
       "  'has_downloads': True,\n",
       "  'has_wiki': True,\n",
       "  'has_pages': False,\n",
       "  'forks_count': 0,\n",
       "  'mirror_url': None,\n",
       "  'archived': False,\n",
       "  'disabled': False,\n",
       "  'open_issues_count': 0,\n",
       "  'license': {'key': 'agpl-3.0',\n",
       "   'name': 'GNU Affero General Public License v3.0',\n",
       "   'spdx_id': 'AGPL-3.0',\n",
       "   'url': 'https://api.github.com/licenses/agpl-3.0',\n",
       "   'node_id': 'MDc6TGljZW5zZTE='},\n",
       "  'forks': 0,\n",
       "  'open_issues': 0,\n",
       "  'watchers': 0,\n",
       "  'default_branch': 'master'},\n",
       " {'id': 276718167,\n",
       "  'node_id': 'MDEwOlJlcG9zaXRvcnkyNzY3MTgxNjc=',\n",
       "  'name': 'bcn-feb-2019',\n",
       "  'full_name': 'brunacarolino/bcn-feb-2019',\n",
       "  'private': False,\n",
       "  'owner': {'login': 'brunacarolino',\n",
       "   'id': 67610079,\n",
       "   'node_id': 'MDQ6VXNlcjY3NjEwMDc5',\n",
       "   'avatar_url': 'https://avatars2.githubusercontent.com/u/67610079?v=4',\n",
       "   'gravatar_id': '',\n",
       "   'url': 'https://api.github.com/users/brunacarolino',\n",
       "   'html_url': 'https://github.com/brunacarolino',\n",
       "   'followers_url': 'https://api.github.com/users/brunacarolino/followers',\n",
       "   'following_url': 'https://api.github.com/users/brunacarolino/following{/other_user}',\n",
       "   'gists_url': 'https://api.github.com/users/brunacarolino/gists{/gist_id}',\n",
       "   'starred_url': 'https://api.github.com/users/brunacarolino/starred{/owner}{/repo}',\n",
       "   'subscriptions_url': 'https://api.github.com/users/brunacarolino/subscriptions',\n",
       "   'organizations_url': 'https://api.github.com/users/brunacarolino/orgs',\n",
       "   'repos_url': 'https://api.github.com/users/brunacarolino/repos',\n",
       "   'events_url': 'https://api.github.com/users/brunacarolino/events{/privacy}',\n",
       "   'received_events_url': 'https://api.github.com/users/brunacarolino/received_events',\n",
       "   'type': 'User',\n",
       "   'site_admin': False},\n",
       "  'html_url': 'https://github.com/brunacarolino/bcn-feb-2019',\n",
       "  'description': None,\n",
       "  'fork': True,\n",
       "  'url': 'https://api.github.com/repos/brunacarolino/bcn-feb-2019',\n",
       "  'forks_url': 'https://api.github.com/repos/brunacarolino/bcn-feb-2019/forks',\n",
       "  'keys_url': 'https://api.github.com/repos/brunacarolino/bcn-feb-2019/keys{/key_id}',\n",
       "  'collaborators_url': 'https://api.github.com/repos/brunacarolino/bcn-feb-2019/collaborators{/collaborator}',\n",
       "  'teams_url': 'https://api.github.com/repos/brunacarolino/bcn-feb-2019/teams',\n",
       "  'hooks_url': 'https://api.github.com/repos/brunacarolino/bcn-feb-2019/hooks',\n",
       "  'issue_events_url': 'https://api.github.com/repos/brunacarolino/bcn-feb-2019/issues/events{/number}',\n",
       "  'events_url': 'https://api.github.com/repos/brunacarolino/bcn-feb-2019/events',\n",
       "  'assignees_url': 'https://api.github.com/repos/brunacarolino/bcn-feb-2019/assignees{/user}',\n",
       "  'branches_url': 'https://api.github.com/repos/brunacarolino/bcn-feb-2019/branches{/branch}',\n",
       "  'tags_url': 'https://api.github.com/repos/brunacarolino/bcn-feb-2019/tags',\n",
       "  'blobs_url': 'https://api.github.com/repos/brunacarolino/bcn-feb-2019/git/blobs{/sha}',\n",
       "  'git_tags_url': 'https://api.github.com/repos/brunacarolino/bcn-feb-2019/git/tags{/sha}',\n",
       "  'git_refs_url': 'https://api.github.com/repos/brunacarolino/bcn-feb-2019/git/refs{/sha}',\n",
       "  'trees_url': 'https://api.github.com/repos/brunacarolino/bcn-feb-2019/git/trees{/sha}',\n",
       "  'statuses_url': 'https://api.github.com/repos/brunacarolino/bcn-feb-2019/statuses/{sha}',\n",
       "  'languages_url': 'https://api.github.com/repos/brunacarolino/bcn-feb-2019/languages',\n",
       "  'stargazers_url': 'https://api.github.com/repos/brunacarolino/bcn-feb-2019/stargazers',\n",
       "  'contributors_url': 'https://api.github.com/repos/brunacarolino/bcn-feb-2019/contributors',\n",
       "  'subscribers_url': 'https://api.github.com/repos/brunacarolino/bcn-feb-2019/subscribers',\n",
       "  'subscription_url': 'https://api.github.com/repos/brunacarolino/bcn-feb-2019/subscription',\n",
       "  'commits_url': 'https://api.github.com/repos/brunacarolino/bcn-feb-2019/commits{/sha}',\n",
       "  'git_commits_url': 'https://api.github.com/repos/brunacarolino/bcn-feb-2019/git/commits{/sha}',\n",
       "  'comments_url': 'https://api.github.com/repos/brunacarolino/bcn-feb-2019/comments{/number}',\n",
       "  'issue_comment_url': 'https://api.github.com/repos/brunacarolino/bcn-feb-2019/issues/comments{/number}',\n",
       "  'contents_url': 'https://api.github.com/repos/brunacarolino/bcn-feb-2019/contents/{+path}',\n",
       "  'compare_url': 'https://api.github.com/repos/brunacarolino/bcn-feb-2019/compare/{base}...{head}',\n",
       "  'merges_url': 'https://api.github.com/repos/brunacarolino/bcn-feb-2019/merges',\n",
       "  'archive_url': 'https://api.github.com/repos/brunacarolino/bcn-feb-2019/{archive_format}{/ref}',\n",
       "  'downloads_url': 'https://api.github.com/repos/brunacarolino/bcn-feb-2019/downloads',\n",
       "  'issues_url': 'https://api.github.com/repos/brunacarolino/bcn-feb-2019/issues{/number}',\n",
       "  'pulls_url': 'https://api.github.com/repos/brunacarolino/bcn-feb-2019/pulls{/number}',\n",
       "  'milestones_url': 'https://api.github.com/repos/brunacarolino/bcn-feb-2019/milestones{/number}',\n",
       "  'notifications_url': 'https://api.github.com/repos/brunacarolino/bcn-feb-2019/notifications{?since,all,participating}',\n",
       "  'labels_url': 'https://api.github.com/repos/brunacarolino/bcn-feb-2019/labels{/name}',\n",
       "  'releases_url': 'https://api.github.com/repos/brunacarolino/bcn-feb-2019/releases{/id}',\n",
       "  'deployments_url': 'https://api.github.com/repos/brunacarolino/bcn-feb-2019/deployments',\n",
       "  'created_at': '2020-07-02T18:24:59Z',\n",
       "  'updated_at': '2020-07-02T18:53:08Z',\n",
       "  'pushed_at': '2020-07-02T18:53:01Z',\n",
       "  'git_url': 'git://github.com/brunacarolino/bcn-feb-2019.git',\n",
       "  'ssh_url': 'git@github.com:brunacarolino/bcn-feb-2019.git',\n",
       "  'clone_url': 'https://github.com/brunacarolino/bcn-feb-2019.git',\n",
       "  'svn_url': 'https://github.com/brunacarolino/bcn-feb-2019',\n",
       "  'homepage': None,\n",
       "  'size': 163750,\n",
       "  'stargazers_count': 0,\n",
       "  'watchers_count': 0,\n",
       "  'language': 'Jupyter Notebook',\n",
       "  'has_issues': False,\n",
       "  'has_projects': True,\n",
       "  'has_downloads': True,\n",
       "  'has_wiki': True,\n",
       "  'has_pages': False,\n",
       "  'forks_count': 0,\n",
       "  'mirror_url': None,\n",
       "  'archived': False,\n",
       "  'disabled': False,\n",
       "  'open_issues_count': 0,\n",
       "  'license': {'key': 'agpl-3.0',\n",
       "   'name': 'GNU Affero General Public License v3.0',\n",
       "   'spdx_id': 'AGPL-3.0',\n",
       "   'url': 'https://api.github.com/licenses/agpl-3.0',\n",
       "   'node_id': 'MDc6TGljZW5zZTE='},\n",
       "  'forks': 0,\n",
       "  'open_issues': 0,\n",
       "  'watchers': 0,\n",
       "  'default_branch': 'master'}]"
      ]
     },
     "execution_count": 5,
     "metadata": {},
     "output_type": "execute_result"
    }
   ],
   "source": [
    "response.json()"
   ]
  },
  {
   "cell_type": "code",
   "execution_count": 6,
   "metadata": {},
   "outputs": [
    {
     "data": {
      "text/html": [
       "<div>\n",
       "<style scoped>\n",
       "    .dataframe tbody tr th:only-of-type {\n",
       "        vertical-align: middle;\n",
       "    }\n",
       "\n",
       "    .dataframe tbody tr th {\n",
       "        vertical-align: top;\n",
       "    }\n",
       "\n",
       "    .dataframe thead th {\n",
       "        text-align: right;\n",
       "    }\n",
       "</style>\n",
       "<table border=\"1\" class=\"dataframe\">\n",
       "  <thead>\n",
       "    <tr style=\"text-align: right;\">\n",
       "      <th></th>\n",
       "      <th>id</th>\n",
       "      <th>node_id</th>\n",
       "      <th>name</th>\n",
       "      <th>full_name</th>\n",
       "      <th>private</th>\n",
       "      <th>owner</th>\n",
       "      <th>html_url</th>\n",
       "      <th>description</th>\n",
       "      <th>fork</th>\n",
       "      <th>url</th>\n",
       "      <th>...</th>\n",
       "      <th>forks_count</th>\n",
       "      <th>mirror_url</th>\n",
       "      <th>archived</th>\n",
       "      <th>disabled</th>\n",
       "      <th>open_issues_count</th>\n",
       "      <th>license</th>\n",
       "      <th>forks</th>\n",
       "      <th>open_issues</th>\n",
       "      <th>watchers</th>\n",
       "      <th>default_branch</th>\n",
       "    </tr>\n",
       "  </thead>\n",
       "  <tbody>\n",
       "    <tr>\n",
       "      <th>0</th>\n",
       "      <td>278336683</td>\n",
       "      <td>MDEwOlJlcG9zaXRvcnkyNzgzMzY2ODM=</td>\n",
       "      <td>bcn-feb-2019</td>\n",
       "      <td>franbaldi/bcn-feb-2019</td>\n",
       "      <td>False</td>\n",
       "      <td>{'login': 'franbaldi', 'id': 25199469, 'node_i...</td>\n",
       "      <td>https://github.com/franbaldi/bcn-feb-2019</td>\n",
       "      <td>None</td>\n",
       "      <td>True</td>\n",
       "      <td>https://api.github.com/repos/franbaldi/bcn-feb...</td>\n",
       "      <td>...</td>\n",
       "      <td>0</td>\n",
       "      <td>None</td>\n",
       "      <td>False</td>\n",
       "      <td>False</td>\n",
       "      <td>0</td>\n",
       "      <td>{'key': 'agpl-3.0', 'name': 'GNU Affero Genera...</td>\n",
       "      <td>0</td>\n",
       "      <td>0</td>\n",
       "      <td>0</td>\n",
       "      <td>master</td>\n",
       "    </tr>\n",
       "    <tr>\n",
       "      <th>1</th>\n",
       "      <td>276718167</td>\n",
       "      <td>MDEwOlJlcG9zaXRvcnkyNzY3MTgxNjc=</td>\n",
       "      <td>bcn-feb-2019</td>\n",
       "      <td>brunacarolino/bcn-feb-2019</td>\n",
       "      <td>False</td>\n",
       "      <td>{'login': 'brunacarolino', 'id': 67610079, 'no...</td>\n",
       "      <td>https://github.com/brunacarolino/bcn-feb-2019</td>\n",
       "      <td>None</td>\n",
       "      <td>True</td>\n",
       "      <td>https://api.github.com/repos/brunacarolino/bcn...</td>\n",
       "      <td>...</td>\n",
       "      <td>0</td>\n",
       "      <td>None</td>\n",
       "      <td>False</td>\n",
       "      <td>False</td>\n",
       "      <td>0</td>\n",
       "      <td>{'key': 'agpl-3.0', 'name': 'GNU Affero Genera...</td>\n",
       "      <td>0</td>\n",
       "      <td>0</td>\n",
       "      <td>0</td>\n",
       "      <td>master</td>\n",
       "    </tr>\n",
       "  </tbody>\n",
       "</table>\n",
       "<p>2 rows × 73 columns</p>\n",
       "</div>"
      ],
      "text/plain": [
       "          id                           node_id          name  \\\n",
       "0  278336683  MDEwOlJlcG9zaXRvcnkyNzgzMzY2ODM=  bcn-feb-2019   \n",
       "1  276718167  MDEwOlJlcG9zaXRvcnkyNzY3MTgxNjc=  bcn-feb-2019   \n",
       "\n",
       "                    full_name  private  \\\n",
       "0      franbaldi/bcn-feb-2019    False   \n",
       "1  brunacarolino/bcn-feb-2019    False   \n",
       "\n",
       "                                               owner  \\\n",
       "0  {'login': 'franbaldi', 'id': 25199469, 'node_i...   \n",
       "1  {'login': 'brunacarolino', 'id': 67610079, 'no...   \n",
       "\n",
       "                                        html_url description  fork  \\\n",
       "0      https://github.com/franbaldi/bcn-feb-2019        None  True   \n",
       "1  https://github.com/brunacarolino/bcn-feb-2019        None  True   \n",
       "\n",
       "                                                 url  ... forks_count  \\\n",
       "0  https://api.github.com/repos/franbaldi/bcn-feb...  ...           0   \n",
       "1  https://api.github.com/repos/brunacarolino/bcn...  ...           0   \n",
       "\n",
       "  mirror_url archived disabled open_issues_count  \\\n",
       "0       None    False    False                 0   \n",
       "1       None    False    False                 0   \n",
       "\n",
       "                                             license forks open_issues  \\\n",
       "0  {'key': 'agpl-3.0', 'name': 'GNU Affero Genera...     0           0   \n",
       "1  {'key': 'agpl-3.0', 'name': 'GNU Affero Genera...     0           0   \n",
       "\n",
       "  watchers default_branch  \n",
       "0        0         master  \n",
       "1        0         master  \n",
       "\n",
       "[2 rows x 73 columns]"
      ]
     },
     "execution_count": 6,
     "metadata": {},
     "output_type": "execute_result"
    }
   ],
   "source": [
    "pd.DataFrame.from_records(response.json())"
   ]
  },
  {
   "cell_type": "code",
   "execution_count": 7,
   "metadata": {},
   "outputs": [
    {
     "data": {
      "text/plain": [
       "0                None\n",
       "1    Jupyter Notebook\n",
       "Name: language, dtype: object"
      ]
     },
     "execution_count": 7,
     "metadata": {},
     "output_type": "execute_result"
    }
   ],
   "source": [
    "pd.json_normalize(response.json())[:]['language']"
   ]
  },
  {
   "cell_type": "code",
   "execution_count": 8,
   "metadata": {},
   "outputs": [
    {
     "data": {
      "text/plain": [
       "0                None\n",
       "1    Jupyter Notebook\n",
       "Name: language, dtype: object"
      ]
     },
     "execution_count": 8,
     "metadata": {},
     "output_type": "execute_result"
    }
   ],
   "source": [
    "pd.json_normalize(response.json())['language']\n",
    "#I found this way, but I don't know if it's legit... I assume parameter 'language is on that level'"
   ]
  },
  {
   "cell_type": "markdown",
   "metadata": {},
   "source": []
  },
  {
   "cell_type": "markdown",
   "metadata": {},
   "source": [
    "# Challenge 2: Count Commits"
   ]
  },
  {
   "cell_type": "markdown",
   "metadata": {},
   "source": [
    "Assuming the main lab repo is ta-data-lis/lab-mysql-first-queries, you will count how many commits were made in the past 2 weeks:\n",
    "\n",
    "Obtain all the commits made in the past 2 weeks via API, which is a JSON array that contains multiple commit objects.\n",
    "\n",
    "Count how many commit objects are contained in the array.\n",
    "\n",
    "Notes:\n",
    "\n",
    "Github API documentation can be found here.\n",
    "\n",
    "You will need to study the Github API documentation to decide which API endpoint to call and what parameters to use in order to obtain the information you need. Unless you are already super familiar with Github API or super lucky, you probably will do some trials and errors. Therefore, be prepared to go back and forth in studying the API documentation, testing, and revising until you obtain what you need.\n",
    "\n",
    "After receiving the JSON data object, you need to inspect its structure and decide how to parse the data.\n",
    "\n",
    "When you test your requests with Github API, sometimes you may be blocked by Github with an error message that reads:\n",
    "\n",
    "You have triggered an abuse detection mechanism and have been temporarily blocked from content creation. Please retry your request again later.\n",
    "\n",
    "Don't worry. Check the parameters in your request and wait for a minute or two before you make additional requests."
   ]
  },
  {
   "cell_type": "code",
   "execution_count": 9,
   "metadata": {},
   "outputs": [],
   "source": [
    "key=\"899ed8f49b54a9160b44fbff45744a0c4e70a3d8\"\n",
    "\n",
    "url=\"https://api.github.com/repos/ta-data-lis/lab-mysql-first-queries/commits\"\n",
    "\n",
    "response = requests.get(url)\n",
    "response.json()\n",
    "\n",
    "inputs = {\n",
    "    'apikey':key\n",
    "    }"
   ]
  },
  {
   "cell_type": "code",
   "execution_count": 10,
   "metadata": {},
   "outputs": [
    {
     "data": {
      "text/plain": [
       "<Response [200]>"
      ]
     },
     "execution_count": 10,
     "metadata": {},
     "output_type": "execute_result"
    }
   ],
   "source": [
    "requests.get(url)"
   ]
  },
  {
   "cell_type": "code",
   "execution_count": 24,
   "metadata": {},
   "outputs": [
    {
     "name": "stdout",
     "output_type": "stream",
     "text": [
      "········\n"
     ]
    }
   ],
   "source": [
    "response = requests.get(url,auth=HTTPBasicAuth('joaopq', getpass()))"
   ]
  },
  {
   "cell_type": "code",
   "execution_count": 25,
   "metadata": {},
   "outputs": [
    {
     "data": {
      "text/plain": [
       "Index(['sha', 'node_id', 'url', 'html_url', 'comments_url', 'parents',\n",
       "       'commit.author.name', 'commit.author.email', 'commit.author.date',\n",
       "       'commit.committer.name', 'commit.committer.email',\n",
       "       'commit.committer.date', 'commit.message', 'commit.tree.sha',\n",
       "       'commit.tree.url', 'commit.url', 'commit.comment_count',\n",
       "       'commit.verification.verified', 'commit.verification.reason',\n",
       "       'commit.verification.signature', 'commit.verification.payload',\n",
       "       'author.login', 'author.id', 'author.node_id', 'author.avatar_url',\n",
       "       'author.gravatar_id', 'author.url', 'author.html_url',\n",
       "       'author.followers_url', 'author.following_url', 'author.gists_url',\n",
       "       'author.starred_url', 'author.subscriptions_url',\n",
       "       'author.organizations_url', 'author.repos_url', 'author.events_url',\n",
       "       'author.received_events_url', 'author.type', 'author.site_admin',\n",
       "       'committer.login', 'committer.id', 'committer.node_id',\n",
       "       'committer.avatar_url', 'committer.gravatar_id', 'committer.url',\n",
       "       'committer.html_url', 'committer.followers_url',\n",
       "       'committer.following_url', 'committer.gists_url',\n",
       "       'committer.starred_url', 'committer.subscriptions_url',\n",
       "       'committer.organizations_url', 'committer.repos_url',\n",
       "       'committer.events_url', 'committer.received_events_url',\n",
       "       'committer.type', 'committer.site_admin'],\n",
       "      dtype='object')"
      ]
     },
     "execution_count": 25,
     "metadata": {},
     "output_type": "execute_result"
    }
   ],
   "source": [
    "df=pd.json_normalize(response.json())\n",
    "df.columns"
   ]
  },
  {
   "cell_type": "code",
   "execution_count": 28,
   "metadata": {},
   "outputs": [
    {
     "data": {
      "text/plain": [
       "4"
      ]
     },
     "execution_count": 28,
     "metadata": {},
     "output_type": "execute_result"
    }
   ],
   "source": [
    "df['commit.author.date'].count()"
   ]
  }
 ],
 "metadata": {
  "kernelspec": {
   "display_name": "Python 3",
   "language": "python",
   "name": "python3"
  },
  "language_info": {
   "codemirror_mode": {
    "name": "ipython",
    "version": 3
   },
   "file_extension": ".py",
   "mimetype": "text/x-python",
   "name": "python",
   "nbconvert_exporter": "python",
   "pygments_lexer": "ipython3",
   "version": "3.7.6"
  }
 },
 "nbformat": 4,
 "nbformat_minor": 4
}
